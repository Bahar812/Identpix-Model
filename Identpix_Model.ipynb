{
 "cells": [
  {
   "cell_type": "code",
   "execution_count": 1,
   "metadata": {},
   "outputs": [
    {
     "name": "stdout",
     "output_type": "stream",
     "text": [
      "WARNING:tensorflow:From c:\\Users\\lenovo\\AppData\\Local\\Programs\\Python\\Python311\\Lib\\site-packages\\keras\\src\\losses.py:2976: The name tf.losses.sparse_softmax_cross_entropy is deprecated. Please use tf.compat.v1.losses.sparse_softmax_cross_entropy instead.\n",
      "\n"
     ]
    }
   ],
   "source": [
    "import os\n",
    "import shutil\n",
    "from deepface import DeepFace\n",
    "import cv2\n",
    "import matplotlib.pyplot as plt"
   ]
  },
  {
   "cell_type": "code",
   "execution_count": 2,
   "metadata": {},
   "outputs": [],
   "source": [
    "def create_folder_if_not_exists(folder_path):\n",
    "    if not os.path.exists(folder_path):\n",
    "        os.makedirs(folder_path)"
   ]
  },
  {
   "cell_type": "code",
   "execution_count": 3,
   "metadata": {},
   "outputs": [],
   "source": [
    "def copy_file(source_path, destination_path):\n",
    "    shutil.copy(source_path, destination_path)"
   ]
  },
  {
   "cell_type": "code",
   "execution_count": 4,
   "metadata": {},
   "outputs": [],
   "source": [
    "def get_folder_name_from_path(file_path):\n",
    "    return os.path.splitext(os.path.basename(file_path))[0]"
   ]
  },
  {
   "cell_type": "code",
   "execution_count": 5,
   "metadata": {},
   "outputs": [],
   "source": [
    "def verify_with_folder(img_path, folder_path):\n",
    "    img = cv2.imread(img_path)\n",
    "    plt.imshow(img[:, :, ::-1])\n",
    "    plt.show()\n",
    "\n",
    "    output_folder = os.path.join(\"data\", \"output_folders\", get_folder_name_from_path(img_path))\n",
    "    create_folder_if_not_exists(output_folder)\n",
    "\n",
    "    for filename in os.listdir(folder_path):\n",
    "        if filename.endswith(\".jpg\") or filename.endswith(\".png\"):\n",
    "            img2_path = os.path.join(folder_path, filename)\n",
    "            result = DeepFace.verify(img_path, img2_path)\n",
    "            distance = result['distance']\n",
    "            verification = result['verified']\n",
    "            print(f\"Comparing {img_path} with {img2_path}: {'Same' if distance <= 0.5  else 'Not same'}\")\n",
    "\n",
    "            if distance <= 0.5:\n",
    "                copy_file(img2_path, output_folder)\n",
    "                print(f\"Copied {filename} to {output_folder}\")\n",
    "\n",
    "            # if verification:\n",
    "            #     copy_file(img2_path, output_folder)\n",
    "            #     print(f\"Copied {filename} to {output_folder}\")\n",
    "\n"
   ]
  },
  {
   "cell_type": "code",
   "execution_count": null,
   "metadata": {},
   "outputs": [],
   "source": [
    "# Path untuk folder gambar\n",
    "input_folder = \"data/images/\"\n",
    "\n",
    "# Path untuk gambar referensi\n",
    "img_path = \"data/images/img_7.jpg\"\n",
    "\n",
    "verify_with_folder(img_path, input_folder)"
   ]
  }
 ],
 "metadata": {
  "kernelspec": {
   "display_name": "Python 3",
   "language": "python",
   "name": "python3"
  },
  "language_info": {
   "codemirror_mode": {
    "name": "ipython",
    "version": 3
   },
   "file_extension": ".py",
   "mimetype": "text/x-python",
   "name": "python",
   "nbconvert_exporter": "python",
   "pygments_lexer": "ipython3",
   "version": "3.11.5"
  }
 },
 "nbformat": 4,
 "nbformat_minor": 2
}
